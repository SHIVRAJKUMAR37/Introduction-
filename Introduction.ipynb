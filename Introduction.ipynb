{
 "cells": [
  {
   "cell_type": "code",
   "execution_count": 1,
   "id": "f1c0b53a",
   "metadata": {},
   "outputs": [
    {
     "name": "stdout",
     "output_type": "stream",
     "text": [
      "This is my first class\n",
      "This is my first class\n",
      "This is my first class\n",
      "This is my first class\n",
      "This is my first class\n",
      "This is my first class\n",
      "This is my first class\n",
      "This is my first class\n",
      "This is my first class\n",
      "This is my first class\n"
     ]
    }
   ],
   "source": [
    "print(\"This is my first class\")\n",
    "print(\"This is my first class\")\n",
    "print(\"This is my first class\")\n",
    "print(\"This is my first class\")\n",
    "print(\"This is my first class\")\n",
    "print(\"This is my first class\")\n",
    "print(\"This is my first class\")\n",
    "print(\"This is my first class\")\n",
    "print(\"This is my first class\")\n",
    "print(\"This is my first class\")"
   ]
  },
  {
   "cell_type": "markdown",
   "id": "c13bc4a0",
   "metadata": {},
   "source": [
    "# my name is shivraj"
   ]
  },
  {
   "cell_type": "markdown",
   "id": "f53d5bfa",
   "metadata": {},
   "source": [
    "if we know python programming following things can be done:\n",
    "### 1) System Programming\n",
    "### 2)GUI\n",
    "### 3)Web Scraping\n",
    "### 4)Manage Database\n",
    "### 5)Prototyping\n",
    "### 6)numerical/sci computation\n",
    "### 7)Game Development\n",
    "### 8)Image Processing\n",
    "### 9)Robotics\n",
    "### 10)Automation\n",
    "### 11)Big Data\n",
    "### 12)Analytics\n"
   ]
  },
  {
   "cell_type": "markdown",
   "id": "bcb7a31c",
   "metadata": {},
   "source": [
    "# Creating simple Variable"
   ]
  },
  {
   "cell_type": "code",
   "execution_count": 2,
   "id": "b3ae97c8",
   "metadata": {},
   "outputs": [
    {
     "data": {
      "text/plain": [
       "3"
      ]
     },
     "execution_count": 2,
     "metadata": {},
     "output_type": "execute_result"
    }
   ],
   "source": [
    "1+2"
   ]
  },
  {
   "cell_type": "code",
   "execution_count": 5,
   "id": "098e3430",
   "metadata": {},
   "outputs": [
    {
     "data": {
      "text/plain": [
       "81"
      ]
     },
     "execution_count": 5,
     "metadata": {},
     "output_type": "execute_result"
    }
   ],
   "source": [
    "3**4"
   ]
  },
  {
   "cell_type": "code",
   "execution_count": 6,
   "id": "5506c320",
   "metadata": {},
   "outputs": [],
   "source": [
    "a =1"
   ]
  },
  {
   "cell_type": "code",
   "execution_count": 7,
   "id": "c34339d7",
   "metadata": {},
   "outputs": [],
   "source": [
    "b = 4**5"
   ]
  },
  {
   "cell_type": "code",
   "execution_count": 8,
   "id": "2e223325",
   "metadata": {},
   "outputs": [
    {
     "data": {
      "text/plain": [
       "1024"
      ]
     },
     "execution_count": 8,
     "metadata": {},
     "output_type": "execute_result"
    }
   ],
   "source": [
    "b"
   ]
  },
  {
   "cell_type": "code",
   "execution_count": 9,
   "id": "e6186425",
   "metadata": {},
   "outputs": [],
   "source": [
    "shivraj = \"My Name\""
   ]
  },
  {
   "cell_type": "code",
   "execution_count": 10,
   "id": "f25080bb",
   "metadata": {},
   "outputs": [
    {
     "data": {
      "text/plain": [
       "'My Name'"
      ]
     },
     "execution_count": 10,
     "metadata": {},
     "output_type": "execute_result"
    }
   ],
   "source": [
    "shivraj"
   ]
  },
  {
   "cell_type": "code",
   "execution_count": 12,
   "id": "cdd0c7dc",
   "metadata": {},
   "outputs": [
    {
     "data": {
      "text/plain": [
       "10"
      ]
     },
     "execution_count": 12,
     "metadata": {},
     "output_type": "execute_result"
    }
   ],
   "source": [
    " a =10\n",
    "a"
   ]
  },
  {
   "cell_type": "markdown",
   "id": "f9f0b5ee",
   "metadata": {},
   "source": [
    "# Finding type of variable"
   ]
  },
  {
   "cell_type": "code",
   "execution_count": 14,
   "id": "9dc9f8e1",
   "metadata": {},
   "outputs": [
    {
     "data": {
      "text/plain": [
       "int"
      ]
     },
     "execution_count": 14,
     "metadata": {},
     "output_type": "execute_result"
    }
   ],
   "source": [
    "type(a)"
   ]
  },
  {
   "cell_type": "code",
   "execution_count": 15,
   "id": "4b92a105",
   "metadata": {},
   "outputs": [
    {
     "data": {
      "text/plain": [
       "str"
      ]
     },
     "execution_count": 15,
     "metadata": {},
     "output_type": "execute_result"
    }
   ],
   "source": [
    "type(shivraj)"
   ]
  },
  {
   "cell_type": "code",
   "execution_count": 16,
   "id": "1997c6fc",
   "metadata": {},
   "outputs": [],
   "source": [
    "shivraj1 = 45.6"
   ]
  },
  {
   "cell_type": "code",
   "execution_count": 17,
   "id": "319b2a50",
   "metadata": {},
   "outputs": [
    {
     "data": {
      "text/plain": [
       "float"
      ]
     },
     "execution_count": 17,
     "metadata": {},
     "output_type": "execute_result"
    }
   ],
   "source": [
    "type(shivraj1)"
   ]
  },
  {
   "cell_type": "code",
   "execution_count": 18,
   "id": "2fa77def",
   "metadata": {},
   "outputs": [],
   "source": [
    "a1 = 5+7j"
   ]
  },
  {
   "cell_type": "code",
   "execution_count": 20,
   "id": "f3c746f1",
   "metadata": {},
   "outputs": [
    {
     "data": {
      "text/plain": [
       "complex"
      ]
     },
     "execution_count": 20,
     "metadata": {},
     "output_type": "execute_result"
    }
   ],
   "source": [
    "type(a1)"
   ]
  },
  {
   "cell_type": "markdown",
   "id": "84734792",
   "metadata": {},
   "source": [
    "# Demonstarion of docstring using tripple quaotes"
   ]
  },
  {
   "cell_type": "code",
   "execution_count": 21,
   "id": "cbf711c0",
   "metadata": {},
   "outputs": [],
   "source": [
    "def test():\n",
    "    \"\"\"This is my function to show demo for docstring \"\"\"\n",
    "    return True"
   ]
  },
  {
   "cell_type": "code",
   "execution_count": 22,
   "id": "71f2bff5",
   "metadata": {},
   "outputs": [
    {
     "data": {
      "text/plain": [
       "True"
      ]
     },
     "execution_count": 22,
     "metadata": {},
     "output_type": "execute_result"
    }
   ],
   "source": [
    "test()"
   ]
  }
 ],
 "metadata": {
  "kernelspec": {
   "display_name": "Python 3",
   "language": "python",
   "name": "python3"
  },
  "language_info": {
   "codemirror_mode": {
    "name": "ipython",
    "version": 3
   },
   "file_extension": ".py",
   "mimetype": "text/x-python",
   "name": "python",
   "nbconvert_exporter": "python",
   "pygments_lexer": "ipython3",
   "version": "3.8.8"
  }
 },
 "nbformat": 4,
 "nbformat_minor": 5
}
