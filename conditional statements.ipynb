{
 "cells": [
  {
   "cell_type": "code",
   "execution_count": 1,
   "id": "960da68b",
   "metadata": {},
   "outputs": [
    {
     "name": "stdout",
     "output_type": "stream",
     "text": [
      "fgd\n",
      "dfg\n",
      "dfg\n",
      "['fgd', 'dfg', 'dfg']\n"
     ]
    }
   ],
   "source": [
    "UserInput = []\n",
    "for n in range(3):\n",
    "    value = input()\n",
    "    UserInput.append(value)\n",
    "print(UserInput)\n"
   ]
  },
  {
   "cell_type": "code",
   "execution_count": 2,
   "id": "8318c529",
   "metadata": {},
   "outputs": [
    {
     "name": "stdout",
     "output_type": "stream",
     "text": [
      "this is the value of a\n"
     ]
    }
   ],
   "source": [
    "a = 10\n",
    "if a: \n",
    "    print(\"this is the value of a\")"
   ]
  },
  {
   "cell_type": "code",
   "execution_count": 8,
   "id": "c52a1857",
   "metadata": {},
   "outputs": [
    {
     "name": "stdout",
     "output_type": "stream",
     "text": [
      "test\n"
     ]
    }
   ],
   "source": [
    "a =10\n",
    "if a <20:\n",
    "    print(\"test\")\n",
    "    "
   ]
  },
  {
   "cell_type": "code",
   "execution_count": 4,
   "id": "20c1562e",
   "metadata": {},
   "outputs": [
    {
     "data": {
      "text/plain": [
       "True"
      ]
     },
     "execution_count": 4,
     "metadata": {},
     "output_type": "execute_result"
    }
   ],
   "source": [
    "a<20"
   ]
  },
  {
   "cell_type": "code",
   "execution_count": 9,
   "id": "8701f335",
   "metadata": {},
   "outputs": [],
   "source": [
    "a =10\n",
    "if a <20:\n",
    "    pass"
   ]
  },
  {
   "cell_type": "code",
   "execution_count": 13,
   "id": "71386be1",
   "metadata": {},
   "outputs": [
    {
     "ename": "IndentationError",
     "evalue": "unexpected indent (<ipython-input-13-231bf55b58d5>, line 3)",
     "output_type": "error",
     "traceback": [
      "\u001b[1;36m  File \u001b[1;32m\"<ipython-input-13-231bf55b58d5>\"\u001b[1;36m, line \u001b[1;32m3\u001b[0m\n\u001b[1;33m    print(\"print the value of a \")\u001b[0m\n\u001b[1;37m    ^\u001b[0m\n\u001b[1;31mIndentationError\u001b[0m\u001b[1;31m:\u001b[0m unexpected indent\n"
     ]
    }
   ],
   "source": [
    "a =10\n",
    "if a <20:True\n",
    "print(\"print the value of a \")"
   ]
  },
  {
   "cell_type": "code",
   "execution_count": 15,
   "id": "84d2ab6f",
   "metadata": {},
   "outputs": [
    {
     "name": "stdout",
     "output_type": "stream",
     "text": [
      "Enter a number: 25\n",
      "False\n"
     ]
    }
   ],
   "source": [
    "a = int(input(\"Enter a number: \"))\n",
    "\n",
    "if a<=20:\n",
    "    print(\"True\")\n",
    "else:\n",
    "    print(\"False\")"
   ]
  },
  {
   "cell_type": "code",
   "execution_count": 16,
   "id": "93b87c0e",
   "metadata": {},
   "outputs": [],
   "source": [
    "if a >20:\n",
    "    pass"
   ]
  },
  {
   "cell_type": "code",
   "execution_count": 17,
   "id": "b35cebe2",
   "metadata": {},
   "outputs": [],
   "source": [
    "a =10\n",
    "if a >20:\n",
    "    print(\"this is number\")"
   ]
  },
  {
   "cell_type": "code",
   "execution_count": 18,
   "id": "e8516831",
   "metadata": {},
   "outputs": [
    {
     "name": "stdout",
     "output_type": "stream",
     "text": [
      "print this statement\n"
     ]
    }
   ],
   "source": [
    "a = 10\n",
    "if a >20:\n",
    "    print(\"this is number\")\n",
    "else:\n",
    "    print(\"print this statement\")"
   ]
  },
  {
   "cell_type": "code",
   "execution_count": 25,
   "id": "91c85c51",
   "metadata": {},
   "outputs": [
    {
     "name": "stdout",
     "output_type": "stream",
     "text": [
      "this is my alternate statement\n"
     ]
    }
   ],
   "source": [
    "a = 10\n",
    "if a > 20:\n",
    "    print(\"this is number\")\n",
    "if a == 10:\n",
    "    print(\"this is my alternate statement\")\n",
    "\n",
    "else:\n",
    "    print(\"print this statement\")    "
   ]
  },
  {
   "cell_type": "code",
   "execution_count": 26,
   "id": "6244eb34",
   "metadata": {},
   "outputs": [
    {
     "name": "stdout",
     "output_type": "stream",
     "text": [
      "this is my alternate statement\n"
     ]
    }
   ],
   "source": [
    "a = 10\n",
    "if a > 20:\n",
    "    print(\"this is number\")\n",
    "if a == 10:\n",
    "    print(\"this is my alternate statement\")\n",
    "elif a <20:\n",
    "    print(\"print from elif\")\n",
    "else:\n",
    "    print(\"print this statement\")  "
   ]
  },
  {
   "cell_type": "code",
   "execution_count": 27,
   "id": "79032524",
   "metadata": {},
   "outputs": [
    {
     "name": "stdout",
     "output_type": "stream",
     "text": [
      "print from elif\n"
     ]
    }
   ],
   "source": [
    "a = 10\n",
    "if a > 20:\n",
    "    print(\"this is number\")\n",
    "if a == 30:\n",
    "    print(\"this is my alternate statement\")\n",
    "elif a <20:\n",
    "    print(\"print from elif\")\n",
    "else:\n",
    "    print(\"print this statement\")"
   ]
  },
  {
   "cell_type": "code",
   "execution_count": 28,
   "id": "7c55408e",
   "metadata": {},
   "outputs": [
    {
     "name": "stdout",
     "output_type": "stream",
     "text": [
      "i am checking a type of var\n"
     ]
    }
   ],
   "source": [
    "a = 10\n",
    "if a > 20:\n",
    "    print(\"this is number\")\n",
    "if a == 30:\n",
    "    print(\"this is my alternate statement\")\n",
    "elif type(a) ==int:\n",
    "    print(\"i am checking a type of var\")\n",
    "elif a <20:\n",
    "    print(\"print from elif\")\n",
    "else:\n",
    "    print(\"print this statement\")"
   ]
  },
  {
   "cell_type": "code",
   "execution_count": 30,
   "id": "13a3070d",
   "metadata": {},
   "outputs": [
    {
     "name": "stdout",
     "output_type": "stream",
     "text": [
      "enter a value 50\n",
      "you can buy all the items listed in row1\n"
     ]
    }
   ],
   "source": [
    "Discount = int(input(\"enter a value \"))\n",
    "if Discount == 50:\n",
    "    print(\"you can buy all the items listed in row1\")\n",
    "elif Discount == 30:\n",
    "    print(\"you can buy all the items from row no2\")\n",
    "elif Discount == 20:\n",
    "    print(\"send user to rown no 3\")\n",
    "elif Discount > 10:\n",
    "    print(\"send him to 4th row\")\n",
    "else:\n",
    "    print(\"there is no items available\")\n",
    "    "
   ]
  },
  {
   "cell_type": "code",
   "execution_count": 32,
   "id": "c8b239f6",
   "metadata": {},
   "outputs": [
    {
     "name": "stdout",
     "output_type": "stream",
     "text": [
      "Enter a value of income: 500\n",
      "you won't be able to get any card\n"
     ]
    }
   ],
   "source": [
    "income =int(input(\"Enter a value of income: \"))\n",
    "if income >1000:\n",
    "    print(\"you can get a platinum card\")\n",
    "elif income >800:\n",
    "    print(\"you can get a gold card\")\n",
    "else:\n",
    "    print(\"you won't be able to get any card\")"
   ]
  },
  {
   "cell_type": "code",
   "execution_count": 33,
   "id": "ff3a8c5e",
   "metadata": {},
   "outputs": [
    {
     "name": "stdout",
     "output_type": "stream",
     "text": [
      "Enter a value of income: 1500\n",
      "you can get a platinum card\n",
      "no option\n"
     ]
    }
   ],
   "source": [
    "income =int(input(\"Enter a value of income: \"))\n",
    "if income >1000:\n",
    "    print(\"you can get a platinum card\")\n",
    "    if income > 2000:\n",
    "        print(\"you will be able to get another facilities\")\n",
    "    elif income <1500:\n",
    "        print(\"you won't be able to get another things\")\n",
    "    else:\n",
    "        print(\"no option\")\n",
    "elif income >800:\n",
    "    print(\"you can get a gold card\")\n",
    "else:\n",
    "    print(\"you won't be able to get any card\")"
   ]
  },
  {
   "cell_type": "code",
   "execution_count": 34,
   "id": "d1a41c03",
   "metadata": {},
   "outputs": [
    {
     "name": "stdout",
     "output_type": "stream",
     "text": [
      "Enter a value of income: 2450\n",
      "you can get a platinum card\n",
      "you will be able to get another facilities\n",
      "you will be able to get a discount in service\n"
     ]
    }
   ],
   "source": [
    "income =int(input(\"Enter a value of income: \"))\n",
    "if income >1000:\n",
    "    print(\"you can get a platinum card\")\n",
    "    if income > 2000:\n",
    "        print(\"you will be able to get another facilities\")\n",
    "        if income >2200:\n",
    "            print(\"you will be able to get a discount in service\")\n",
    "        elif income > 2300:\n",
    "            print(\"you will be able to get a air ticket\")\n",
    "        else:\n",
    "            print(\"there is no option available\")\n",
    "    elif income <1500:\n",
    "        print(\"you won't be able to get another things\")\n",
    "    else:\n",
    "        print(\"no option\")\n",
    "elif income >800:\n",
    "    print(\"you can get a gold card\")\n",
    "else:\n",
    "    print(\"you won't be able to get any card\")"
   ]
  },
  {
   "cell_type": "code",
   "execution_count": 35,
   "id": "77187fc2",
   "metadata": {},
   "outputs": [
    {
     "name": "stdout",
     "output_type": "stream",
     "text": [
      "10\n",
      "this is 10\n"
     ]
    }
   ],
   "source": [
    "val = int(input())\n",
    "if val == 10 : print(\"this is 10\")"
   ]
  },
  {
   "cell_type": "code",
   "execution_count": 36,
   "id": "86bb5376",
   "metadata": {},
   "outputs": [
    {
     "data": {
      "text/plain": [
       "[2, 3, 4, 5, 6, 1, 2, 3, 3]"
      ]
     },
     "execution_count": 36,
     "metadata": {},
     "output_type": "execute_result"
    }
   ],
   "source": [
    "l = [2,3,4,5,6,1,2,3,3]\n",
    "l"
   ]
  },
  {
   "cell_type": "code",
   "execution_count": 37,
   "id": "c93d2486",
   "metadata": {},
   "outputs": [
    {
     "data": {
      "text/plain": [
       "[2, 3, 4, 5, 6, 1, 2, 3, 3]"
      ]
     },
     "execution_count": 37,
     "metadata": {},
     "output_type": "execute_result"
    }
   ],
   "source": [
    "l = [2,3,4,5,6,1,2,3,3]\n",
    "l[::]"
   ]
  },
  {
   "cell_type": "code",
   "execution_count": 38,
   "id": "42ddb9bf",
   "metadata": {},
   "outputs": [
    {
     "name": "stdout",
     "output_type": "stream",
     "text": [
      "2\n",
      "3\n",
      "4\n",
      "5\n",
      "6\n",
      "1\n",
      "2\n",
      "3\n",
      "3\n"
     ]
    }
   ],
   "source": [
    "for x in l:\n",
    "    print(x)"
   ]
  },
  {
   "cell_type": "code",
   "execution_count": 39,
   "id": "458dc56a",
   "metadata": {},
   "outputs": [],
   "source": [
    "l  = [\"shivraj\",[1,2,34,],(2,3,4,5,6),56,67,6+7j,True,45.67]"
   ]
  },
  {
   "cell_type": "code",
   "execution_count": 40,
   "id": "952e68c0",
   "metadata": {},
   "outputs": [
    {
     "name": "stdout",
     "output_type": "stream",
     "text": [
      "shivraj\n",
      "[1, 2, 34]\n",
      "(2, 3, 4, 5, 6)\n",
      "56\n",
      "67\n",
      "(6+7j)\n",
      "True\n",
      "45.67\n"
     ]
    }
   ],
   "source": [
    "for i in l:\n",
    "    print(i)"
   ]
  },
  {
   "cell_type": "code",
   "execution_count": 41,
   "id": "e61427d9",
   "metadata": {},
   "outputs": [
    {
     "name": "stdout",
     "output_type": "stream",
     "text": [
      "shivraj\n"
     ]
    }
   ],
   "source": [
    "l  = [\"shivraj\",[1,2,34,],(2,3,4,5,6),56,67,6+7j,True,45.67]\n",
    "for i in l:\n",
    "    if type(i) ==str:\n",
    "        print(i)"
   ]
  },
  {
   "cell_type": "code",
   "execution_count": 44,
   "id": "ff38bc5f",
   "metadata": {},
   "outputs": [
    {
     "name": "stdout",
     "output_type": "stream",
     "text": [
      "shivraj\n",
      "kumar\n"
     ]
    }
   ],
   "source": [
    "l  = [\"shivraj\",[1,2,34,],(2,3,4,5,6),56,67,6+7j,True,45.67,\"kumar\"]\n",
    "\n",
    "for i in l:\n",
    "    if type(i) ==str:\n",
    "        print(i)\n"
   ]
  },
  {
   "cell_type": "code",
   "execution_count": 45,
   "id": "77d6351a",
   "metadata": {},
   "outputs": [
    {
     "data": {
      "text/plain": [
       "['shivraj', [1, 2, 34], (2, 3, 4, 5, 6), 56, 67, (6+7j), True, 45.67, 'kumar']"
      ]
     },
     "execution_count": 45,
     "metadata": {},
     "output_type": "execute_result"
    }
   ],
   "source": [
    "l"
   ]
  },
  {
   "cell_type": "code",
   "execution_count": 46,
   "id": "9ba23a3e",
   "metadata": {},
   "outputs": [
    {
     "name": "stdout",
     "output_type": "stream",
     "text": [
      "[34, 2, 1]\n"
     ]
    }
   ],
   "source": [
    "for x in l:\n",
    "    if type(x) == list:\n",
    "        print(x[::-1])"
   ]
  },
  {
   "cell_type": "code",
   "execution_count": 47,
   "id": "3b52a33f",
   "metadata": {},
   "outputs": [
    {
     "name": "stdout",
     "output_type": "stream",
     "text": [
      "s\n",
      "h\n",
      "i\n",
      "v\n",
      "r\n",
      "a\n",
      "j\n",
      " \n",
      "k\n",
      "u\n",
      "m\n",
      "a\n",
      "r\n"
     ]
    }
   ],
   "source": [
    " s= \"shivraj kumar\"\n",
    "for x in s:\n",
    "    print(x)"
   ]
  },
  {
   "cell_type": "code",
   "execution_count": 48,
   "id": "91d2175c",
   "metadata": {},
   "outputs": [
    {
     "name": "stdout",
     "output_type": "stream",
     "text": [
      "s1\n",
      "h1\n",
      "i1\n",
      "v1\n",
      "r1\n",
      "a1\n",
      "j1\n",
      " 1\n",
      "k1\n",
      "u1\n",
      "m1\n",
      "a1\n",
      "r1\n"
     ]
    }
   ],
   "source": [
    " s= \"shivraj kumar\"\n",
    "for x in s:\n",
    "    print(x+ \"1\")"
   ]
  },
  {
   "cell_type": "code",
   "execution_count": 49,
   "id": "45ea4609",
   "metadata": {},
   "outputs": [
    {
     "name": "stdout",
     "output_type": "stream",
     "text": [
      "3\n",
      "4\n",
      "5\n",
      "6\n",
      "7\n"
     ]
    }
   ],
   "source": [
    "t = (3,4,5,6,7)\n",
    "for i in t:\n",
    "    print(i)"
   ]
  },
  {
   "cell_type": "code",
   "execution_count": 50,
   "id": "389de957",
   "metadata": {},
   "outputs": [
    {
     "data": {
      "text/plain": [
       "range(0, 10)"
      ]
     },
     "execution_count": 50,
     "metadata": {},
     "output_type": "execute_result"
    }
   ],
   "source": [
    "range(10)\n"
   ]
  },
  {
   "cell_type": "code",
   "execution_count": 51,
   "id": "90bd576f",
   "metadata": {},
   "outputs": [
    {
     "data": {
      "text/plain": [
       "[0, 1, 2, 3, 4, 5, 6, 7, 8, 9]"
      ]
     },
     "execution_count": 51,
     "metadata": {},
     "output_type": "execute_result"
    }
   ],
   "source": [
    "list(range(10))"
   ]
  },
  {
   "cell_type": "code",
   "execution_count": 52,
   "id": "37ad41c9",
   "metadata": {},
   "outputs": [
    {
     "name": "stdout",
     "output_type": "stream",
     "text": [
      "0\n",
      "1\n",
      "2\n",
      "3\n",
      "4\n",
      "5\n",
      "6\n",
      "7\n",
      "8\n",
      "9\n"
     ]
    }
   ],
   "source": [
    "for i in range(10):\n",
    "    print(i)"
   ]
  },
  {
   "cell_type": "code",
   "execution_count": 53,
   "id": "688e6b46",
   "metadata": {},
   "outputs": [
    {
     "data": {
      "text/plain": [
       "(0, 1, 2, 3, 4, 5, 6, 7, 8, 9)"
      ]
     },
     "execution_count": 53,
     "metadata": {},
     "output_type": "execute_result"
    }
   ],
   "source": [
    "tuple(range(10))"
   ]
  },
  {
   "cell_type": "code",
   "execution_count": 55,
   "id": "39f79a98",
   "metadata": {},
   "outputs": [
    {
     "name": "stdout",
     "output_type": "stream",
     "text": [
      "[2, 3, 3]\n"
     ]
    }
   ],
   "source": [
    "l = [\"hello\",[2,3,3],\"str\",45.7,45+i,True,(2,3,4)]\n",
    "for n in l:\n",
    "    if type(n) == list:\n",
    "        print(n)"
   ]
  },
  {
   "cell_type": "code",
   "execution_count": 56,
   "id": "1fb0b358",
   "metadata": {},
   "outputs": [
    {
     "ename": "TypeError",
     "evalue": "'int' object is not iterable",
     "output_type": "error",
     "traceback": [
      "\u001b[1;31m-------------------------------------------------------------------------\u001b[0m",
      "\u001b[1;31mTypeError\u001b[0m                               Traceback (most recent call last)",
      "\u001b[1;32m<ipython-input-56-073f052e1b6d>\u001b[0m in \u001b[0;36m<module>\u001b[1;34m\u001b[0m\n\u001b[0;32m      1\u001b[0m \u001b[0ma\u001b[0m \u001b[1;33m=\u001b[0m\u001b[1;36m10\u001b[0m\u001b[1;33m\u001b[0m\u001b[1;33m\u001b[0m\u001b[0m\n\u001b[1;32m----> 2\u001b[1;33m \u001b[1;32mfor\u001b[0m \u001b[0mi\u001b[0m \u001b[1;32min\u001b[0m \u001b[0ma\u001b[0m\u001b[1;33m:\u001b[0m\u001b[1;33m\u001b[0m\u001b[1;33m\u001b[0m\u001b[0m\n\u001b[0m\u001b[0;32m      3\u001b[0m     \u001b[0mprint\u001b[0m\u001b[1;33m(\u001b[0m\u001b[0mi\u001b[0m\u001b[1;33m)\u001b[0m\u001b[1;33m\u001b[0m\u001b[1;33m\u001b[0m\u001b[0m\n",
      "\u001b[1;31mTypeError\u001b[0m: 'int' object is not iterable"
     ]
    }
   ],
   "source": [
    "a =10\n",
    "for i in a:\n",
    "    print(i)"
   ]
  },
  {
   "cell_type": "code",
   "execution_count": 57,
   "id": "98018865",
   "metadata": {},
   "outputs": [
    {
     "name": "stdout",
     "output_type": "stream",
     "text": [
      "1\n",
      "0\n"
     ]
    }
   ],
   "source": [
    "a =10\n",
    "for i in str(a):\n",
    "    print(i)"
   ]
  },
  {
   "cell_type": "code",
   "execution_count": 58,
   "id": "7a7bd3a2",
   "metadata": {},
   "outputs": [
    {
     "data": {
      "text/plain": [
       "[[1, 2, 3, 4], 'Jhon', (1, 2, 3, 4), 445, 44.8, (3+5j), True, 'Smith']"
      ]
     },
     "execution_count": 58,
     "metadata": {},
     "output_type": "execute_result"
    }
   ],
   "source": [
    "li =[[1,2,3,4],\"Jhon\",(1,2,3,4),445,44.8,3+5j,True,\"Smith\"]\n",
    "li"
   ]
  },
  {
   "cell_type": "code",
   "execution_count": 63,
   "id": "a52650c5",
   "metadata": {},
   "outputs": [
    {
     "name": "stdout",
     "output_type": "stream",
     "text": [
      "[1, 2, 3, 4]\n",
      "Jhon\n",
      "(1, 2, 3, 4)\n",
      "Smith\n"
     ]
    }
   ],
   "source": [
    "for l in li:\n",
    "    if type(l)==list or type(l)== tuple or type(l)==str:\n",
    "        print(l)\n",
    "    "
   ]
  },
  {
   "cell_type": "code",
   "execution_count": 71,
   "id": "2d95d029",
   "metadata": {},
   "outputs": [
    {
     "name": "stdout",
     "output_type": "stream",
     "text": [
      "this is not possible\n",
      "this is not possible\n",
      "this is not possible\n",
      "this is not possible\n",
      "this is not possible\n",
      "this is not possible\n",
      "this is not possible\n",
      "this is not possible\n"
     ]
    }
   ],
   "source": [
    "li =[[1,2,3,4],\"Jhon\",(1,2,3,4),445,44.8,3+5j,True,\"Smith\"]\n",
    "for i in li:\n",
    "    if type(i)==list and type(i) == tuple and type(i)==str:\n",
    "        print(i)\n",
    "    else:\n",
    "        print(\"this is not possible\")\n",
    " "
   ]
  },
  {
   "cell_type": "code",
   "execution_count": 72,
   "id": "e6dba675",
   "metadata": {},
   "outputs": [
    {
     "name": "stdout",
     "output_type": "stream",
     "text": [
      "[1, 2, 3, 4]\n",
      "Jhon\n",
      "(1, 2, 3, 4)\n",
      "this is not possible\n",
      "this is not possible\n",
      "this is not possible\n",
      "this is not possible\n",
      "Smith\n"
     ]
    }
   ],
   "source": [
    "li =[[1,2,3,4],\"Jhon\",(1,2,3,4),445,44.8,3+5j,True,\"Smith\"]\n",
    "for i in li:\n",
    "    if type(i)==list or type(i) == tuple or type(i)==str:\n",
    "        print(i)\n",
    "    else:\n",
    "        print(\"this is not possible\")"
   ]
  },
  {
   "cell_type": "code",
   "execution_count": 75,
   "id": "5d81bbe9",
   "metadata": {},
   "outputs": [
    {
     "name": "stdout",
     "output_type": "stream",
     "text": [
      "[1, 2, 3, 4]\n",
      "1\n",
      "2\n",
      "3\n",
      "4\n",
      "Jhon\n",
      "(1, 2, 3, 4)\n",
      "445\n",
      "44.8\n",
      "(3+5j)\n",
      "True\n",
      "Smith\n"
     ]
    }
   ],
   "source": [
    "li =[[1,2,3,4,],\"Jhon\",(1,2,3,4),445,44.8,3+5j,True,\"Smith\"]\n",
    "for i in li:\n",
    "    print(i)\n",
    "    if type(i) == list:\n",
    "        for x in i:\n",
    "            print(x)"
   ]
  },
  {
   "cell_type": "code",
   "execution_count": 76,
   "id": "eca46e9d",
   "metadata": {},
   "outputs": [
    {
     "name": "stdout",
     "output_type": "stream",
     "text": [
      "[1, 2, 3, 4]\n",
      "1\n",
      "2\n",
      "3\n",
      "4\n",
      "Jhon\n",
      "J\n",
      "h\n",
      "o\n",
      "n\n",
      "(1, 2, 3, 4)\n",
      "1\n",
      "2\n",
      "3\n",
      "4\n",
      "445\n",
      "44.8\n",
      "(3+5j)\n",
      "True\n",
      "Smith\n",
      "S\n",
      "m\n",
      "i\n",
      "t\n",
      "h\n"
     ]
    }
   ],
   "source": [
    "li =[[1,2,3,4,],\"Jhon\",(1,2,3,4),445,44.8,3+5j,True,\"Smith\"]\n",
    "for i in li:\n",
    "    print(i)\n",
    "    if type(i) == list or type(i) == tuple or type(i) == str:\n",
    "        for x in i:\n",
    "            print(x)"
   ]
  },
  {
   "cell_type": "markdown",
   "id": "5b871156",
   "metadata": {},
   "source": [
    "### Creating pyramid"
   ]
  },
  {
   "cell_type": "code",
   "execution_count": 89,
   "id": "245d3e67",
   "metadata": {},
   "outputs": [
    {
     "name": "stdout",
     "output_type": "stream",
     "text": [
      ". \n",
      ". . \n",
      ". . . \n",
      ". . . . \n",
      ". . . . . \n"
     ]
    }
   ],
   "source": [
    "n = 5\n",
    "for i in range(n):\n",
    "    for j in range(i+1):\n",
    "        print(\".\",end = \" \")\n",
    "    print(\"\")"
   ]
  },
  {
   "cell_type": "code",
   "execution_count": 94,
   "id": "4ef02deb",
   "metadata": {},
   "outputs": [
    {
     "name": "stdout",
     "output_type": "stream",
     "text": [
      "10\n",
      ". \n",
      ". . \n",
      ". . . \n",
      ". . . . \n",
      ". . . . . \n",
      ". . . . . . \n",
      ". . . . . . . \n",
      ". . . . . . . . \n",
      ". . . . . . . . . \n",
      ". . . . . . . . . . \n"
     ]
    }
   ],
   "source": [
    "n = int(input())\n",
    "for i in range(n):\n",
    "    for j in range(i+1):\n",
    "        print(\".\",end =\" \")\n",
    "    print(\"\")"
   ]
  },
  {
   "cell_type": "markdown",
   "id": "a48ec277",
   "metadata": {},
   "source": [
    "### Task"
   ]
  },
  {
   "cell_type": "raw",
   "id": "da1de726",
   "metadata": {},
   "source": [
    "1) try to create 1,2,3,2,1\n",
    "               .\n",
    "              .  .\n",
    "             .  .  .\n",
    "               .  .\n",
    "                 .\n",
    "2)l = [[1,1,2,2,3,3],[2,4,2,2,5],[1,5,8,8,2]] \n",
    "try to find repeated accurence of numbers in list "
   ]
  },
  {
   "cell_type": "code",
   "execution_count": 127,
   "id": "a812108a",
   "metadata": {},
   "outputs": [
    {
     "name": "stdout",
     "output_type": "stream",
     "text": [
      "the count of  1 is 2\n",
      "the count of  2 is 2\n",
      "the count of  3 is 2\n",
      "the count of  4 is 1\n",
      "the count of  5 is 1\n",
      "the count of  8 is 2\n"
     ]
    }
   ],
   "source": [
    "l = [[1,1,2,2,3,3],[2,4,2,2,5],[1,5,8,8,2]] \n",
    "x = []\n",
    "for i in l:\n",
    "    if type(i) ==list:\n",
    "        for j in i:\n",
    "            if j not in x:\n",
    "                x.append(j)\n",
    "                print(\"the count of \",j,\"is\",i.count(j))\n",
    "            else:\n",
    "                x.append(j)"
   ]
  },
  {
   "cell_type": "code",
   "execution_count": 136,
   "id": "7799edcc",
   "metadata": {},
   "outputs": [
    {
     "name": "stdout",
     "output_type": "stream",
     "text": [
      "6\n",
      "              \n",
      "      .       \n",
      "     . .      \n",
      "    . . .     \n",
      "   . . . .    \n",
      "  . . . . .   \n",
      "   . . . .    \n",
      "    . . .     \n",
      "     . .      \n",
      "      .       \n"
     ]
    }
   ],
   "source": [
    "n = int(input())\n",
    "\n",
    "for i in range(n):\n",
    "    print(\" \"*(n-i),\". \"* i,\" \"*(n-i))\n",
    "for i in range(n-2,0,-1):\n",
    "    print(\" \"*(n-i),\". \"* i,\" \"*(n-i))"
   ]
  },
  {
   "cell_type": "code",
   "execution_count": 135,
   "id": "fab6e737",
   "metadata": {},
   "outputs": [
    {
     "name": "stdout",
     "output_type": "stream",
     "text": [
      "s 0\n",
      "h 1\n",
      "i 2\n",
      "v 3\n",
      "r 4\n",
      "a 5\n",
      "j 6\n"
     ]
    }
   ],
   "source": [
    "s = \"shivraj\"\n",
    "for i in range(len(s)):\n",
    "    print(s[i],i)"
   ]
  },
  {
   "cell_type": "code",
   "execution_count": 167,
   "id": "fc781800",
   "metadata": {},
   "outputs": [],
   "source": [
    "l = [7,\"shivraj\"]\n",
    "for i in l:\n",
    "    if type(i) == int:\n",
    "       \n",
    "        j=(1,2,3,4)\n",
    "        l.insert(i,j)\n"
   ]
  },
  {
   "cell_type": "code",
   "execution_count": 168,
   "id": "0ebdd8f2",
   "metadata": {},
   "outputs": [
    {
     "data": {
      "text/plain": [
       "[7, 'shivraj', (1, 2, 3, 4)]"
      ]
     },
     "execution_count": 168,
     "metadata": {},
     "output_type": "execute_result"
    }
   ],
   "source": [
    "l"
   ]
  },
  {
   "cell_type": "code",
   "execution_count": 169,
   "id": "819a968c",
   "metadata": {},
   "outputs": [
    {
     "name": "stdout",
     "output_type": "stream",
     "text": [
      "[(1, 2, 3, 4), 'shivraj']\n"
     ]
    }
   ],
   "source": [
    "l = [7,\"shivraj\"]\n",
    "j=(1,2,3,4)\n",
    "for i in l:\n",
    "    l[0]=j\n",
    "print(l)"
   ]
  }
 ],
 "metadata": {
  "kernelspec": {
   "display_name": "Python 3",
   "language": "python",
   "name": "python3"
  },
  "language_info": {
   "codemirror_mode": {
    "name": "ipython",
    "version": 3
   },
   "file_extension": ".py",
   "mimetype": "text/x-python",
   "name": "python",
   "nbconvert_exporter": "python",
   "pygments_lexer": "ipython3",
   "version": "3.8.8"
  }
 },
 "nbformat": 4,
 "nbformat_minor": 5
}
